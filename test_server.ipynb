{
 "cells": [
  {
   "cell_type": "code",
   "execution_count": 1,
   "metadata": {},
   "outputs": [
    {
     "name": "stderr",
     "output_type": "stream",
     "text": [
      "/Users/prajwalp/Library/Python/3.9/lib/python/site-packages/urllib3/__init__.py:34: NotOpenSSLWarning: urllib3 v2.0 only supports OpenSSL 1.1.1+, currently the 'ssl' module is compiled with 'LibreSSL 2.8.3'. See: https://github.com/urllib3/urllib3/issues/3020\n",
      "  warnings.warn(\n"
     ]
    }
   ],
   "source": [
    "from selenium import webdriver\n",
    "from selenium.webdriver.common.by import By\n",
    "from selenium.webdriver.common.keys import Keys\n",
    "import time\n",
    "\n",
    "driver = webdriver.Edge()\n",
    "\n",
    "driver.get(\"https://bug-free-eureka-gj5xqvvpr9ghqr-8000.app.github.dev\")\n",
    "\n",
    "time.sleep(3)\n",
    "\n"
   ]
  },
  {
   "cell_type": "code",
   "execution_count": 2,
   "metadata": {},
   "outputs": [
    {
     "name": "stdout",
     "output_type": "stream",
     "text": [
      "Waiting to run the task at 12:36:00...\n",
      "0\n",
      "1\n",
      "2\n",
      "3\n",
      "4\n",
      "5\n",
      "6\n",
      "7\n",
      "8\n",
      "9\n",
      "10\n",
      "11\n",
      "12\n",
      "13\n",
      "14\n",
      "15\n",
      "16\n"
     ]
    },
    {
     "ename": "KeyboardInterrupt",
     "evalue": "",
     "output_type": "error",
     "traceback": [
      "\u001b[0;31m---------------------------------------------------------------------------\u001b[0m",
      "\u001b[0;31mKeyboardInterrupt\u001b[0m                         Traceback (most recent call last)",
      "Cell \u001b[0;32mIn[2], line 53\u001b[0m\n\u001b[1;32m     51\u001b[0m \u001b[38;5;66;03m# Check if the current time matches the target time\u001b[39;00m\n\u001b[1;32m     52\u001b[0m \u001b[38;5;28;01mif\u001b[39;00m now \u001b[38;5;241m>\u001b[39m\u001b[38;5;241m=\u001b[39m target_time:\n\u001b[0;32m---> 53\u001b[0m     \u001b[43mtask_to_run\u001b[49m\u001b[43m(\u001b[49m\u001b[43m)\u001b[49m\n\u001b[1;32m     54\u001b[0m     \u001b[38;5;28;01mbreak\u001b[39;00m\n\u001b[1;32m     56\u001b[0m \u001b[38;5;66;03m# Wait a bit before checking again\u001b[39;00m\n",
      "Cell \u001b[0;32mIn[2], line 38\u001b[0m, in \u001b[0;36mtask_to_run\u001b[0;34m()\u001b[0m\n\u001b[1;32m     36\u001b[0m \u001b[38;5;28;01mexcept\u001b[39;00m:\n\u001b[1;32m     37\u001b[0m     \u001b[38;5;28;01mpass\u001b[39;00m\n\u001b[0;32m---> 38\u001b[0m \u001b[43mtime\u001b[49m\u001b[38;5;241;43m.\u001b[39;49m\u001b[43msleep\u001b[49m\u001b[43m(\u001b[49m\u001b[43mt\u001b[49m\u001b[43m)\u001b[49m\n",
      "\u001b[0;31mKeyboardInterrupt\u001b[0m: "
     ]
    }
   ],
   "source": [
    "import time\n",
    "from datetime import datetime\n",
    "import time\n",
    "import numpy as np\n",
    "\n",
    "t = 0.3\n",
    "specific_time = \"12:36:00\"  # Example: 2:30 PM\n",
    "def task_to_run():\n",
    "    for i in range(100):\n",
    "        name = np.random.choice(100000)\n",
    "        email = str(name) + '@gmail.com'\n",
    "        passwrd = str(np.random.choice(100000000))\n",
    "        print(i)\n",
    "        try:\n",
    "            driver.find_element('xpath','/html/body/nav/div/div/ul/li[1]/a').click()\n",
    "        except:\n",
    "            pass\n",
    "        time.sleep(t)\n",
    "        try:\n",
    "            driver.find_element('xpath','//*[@id=\"name\"]').send_keys(str(name))\n",
    "        except:\n",
    "            pass\n",
    "        time.sleep(t)\n",
    "        try:\n",
    "            driver.find_element('xpath','/html/body/div/form/div[2]/input').send_keys(email)\n",
    "        except:\n",
    "            pass\n",
    "        time.sleep(t)\n",
    "        try:\n",
    "            driver.find_element('xpath','//*[@id=\"password\"]').send_keys(passwrd)\n",
    "        except:\n",
    "            pass\n",
    "        time.sleep(t)\n",
    "        try:\n",
    "            driver.find_element('xpath','/html/body/div/form/div[4]/button').click()\n",
    "        except:\n",
    "            pass\n",
    "        time.sleep(t)\n",
    "\n",
    "# Set the specific time (24-hour format)\n",
    "\n",
    "# Convert the time to a `datetime` object\n",
    "target_time = datetime.strptime(specific_time, \"%H:%M:%S\").time()\n",
    "\n",
    "print(f\"Waiting to run the task at {specific_time}...\")\n",
    "\n",
    "while True:\n",
    "    # Get the current time\n",
    "    now = datetime.now().time()\n",
    "\n",
    "    # Check if the current time matches the target time\n",
    "    if now >= target_time:\n",
    "        task_to_run()\n",
    "        break\n",
    "\n",
    "    # Wait a bit before checking again\n",
    "    time.sleep(1)\n",
    "\n"
   ]
  },
  {
   "cell_type": "code",
   "execution_count": 11,
   "metadata": {},
   "outputs": [
    {
     "ename": "NameError",
     "evalue": "name 'time' is not defined",
     "output_type": "error",
     "traceback": [
      "\u001b[0;31m---------------------------------------------------------------------------\u001b[0m",
      "\u001b[0;31mNameError\u001b[0m                                 Traceback (most recent call last)",
      "Cell \u001b[0;32mIn[11], line 1\u001b[0m\n\u001b[0;32m----> 1\u001b[0m \u001b[43mtime\u001b[49m\u001b[38;5;241m.\u001b[39mtime\n",
      "\u001b[0;31mNameError\u001b[0m: name 'time' is not defined"
     ]
    }
   ],
   "source": [
    "time"
   ]
  },
  {
   "cell_type": "code",
   "execution_count": 9,
   "metadata": {},
   "outputs": [
    {
     "data": {
      "text/plain": [
       "datetime.time(10, 49, 21, 385063)"
      ]
     },
     "execution_count": 9,
     "metadata": {},
     "output_type": "execute_result"
    }
   ],
   "source": [
    "dtt.datetime.now().time() "
   ]
  },
  {
   "cell_type": "code",
   "execution_count": null,
   "metadata": {},
   "outputs": [],
   "source": [
    "\n"
   ]
  }
 ],
 "metadata": {
  "kernelspec": {
   "display_name": "Python 3",
   "language": "python",
   "name": "python3"
  },
  "language_info": {
   "codemirror_mode": {
    "name": "ipython",
    "version": 3
   },
   "file_extension": ".py",
   "mimetype": "text/x-python",
   "name": "python",
   "nbconvert_exporter": "python",
   "pygments_lexer": "ipython3",
   "version": "3.9.6"
  }
 },
 "nbformat": 4,
 "nbformat_minor": 2
}
